{
 "cells": [
  {
   "cell_type": "markdown",
   "metadata": {},
   "source": [
    "# Decision Tree"
   ]
  },
  {
   "cell_type": "markdown",
   "metadata": {
    "_cell_guid": "e93323c0-07e0-6b2c-47d1-1f82bb4e9b56"
   },
   "source": [
    "## Use Decision Tree to classify the Iris dataset\n",
    "- dataset: 'Iris.csv'\n"
   ]
  },
  {
   "cell_type": "code",
   "execution_count": 1,
   "metadata": {},
   "outputs": [],
   "source": [
    "import pandas as pd\n",
    "import numpy as np\n",
    "import seaborn as sns\n",
    "import matplotlib.pyplot as plt\n",
    "%matplotlib inline"
   ]
  },
  {
   "cell_type": "code",
   "execution_count": 2,
   "metadata": {},
   "outputs": [],
   "source": [
    "dataset = pd.read_csv('Iris.csv')"
   ]
  },
  {
   "cell_type": "markdown",
   "metadata": {},
   "source": [
    "# 1. Data Exploration"
   ]
  },
  {
   "cell_type": "code",
   "execution_count": 3,
   "metadata": {},
   "outputs": [
    {
     "data": {
      "text/html": [
       "<div>\n",
       "<style scoped>\n",
       "    .dataframe tbody tr th:only-of-type {\n",
       "        vertical-align: middle;\n",
       "    }\n",
       "\n",
       "    .dataframe tbody tr th {\n",
       "        vertical-align: top;\n",
       "    }\n",
       "\n",
       "    .dataframe thead th {\n",
       "        text-align: right;\n",
       "    }\n",
       "</style>\n",
       "<table border=\"1\" class=\"dataframe\">\n",
       "  <thead>\n",
       "    <tr style=\"text-align: right;\">\n",
       "      <th></th>\n",
       "      <th>Id</th>\n",
       "      <th>SepalLengthCm</th>\n",
       "      <th>SepalWidthCm</th>\n",
       "      <th>PetalLengthCm</th>\n",
       "      <th>PetalWidthCm</th>\n",
       "      <th>Species</th>\n",
       "    </tr>\n",
       "  </thead>\n",
       "  <tbody>\n",
       "    <tr>\n",
       "      <th>0</th>\n",
       "      <td>1</td>\n",
       "      <td>5.1</td>\n",
       "      <td>3.5</td>\n",
       "      <td>1.4</td>\n",
       "      <td>0.2</td>\n",
       "      <td>Iris-setosa</td>\n",
       "    </tr>\n",
       "    <tr>\n",
       "      <th>1</th>\n",
       "      <td>2</td>\n",
       "      <td>4.9</td>\n",
       "      <td>3.0</td>\n",
       "      <td>1.4</td>\n",
       "      <td>0.2</td>\n",
       "      <td>Iris-setosa</td>\n",
       "    </tr>\n",
       "    <tr>\n",
       "      <th>2</th>\n",
       "      <td>3</td>\n",
       "      <td>4.7</td>\n",
       "      <td>3.2</td>\n",
       "      <td>1.3</td>\n",
       "      <td>0.2</td>\n",
       "      <td>Iris-setosa</td>\n",
       "    </tr>\n",
       "    <tr>\n",
       "      <th>3</th>\n",
       "      <td>4</td>\n",
       "      <td>4.6</td>\n",
       "      <td>3.1</td>\n",
       "      <td>1.5</td>\n",
       "      <td>0.2</td>\n",
       "      <td>Iris-setosa</td>\n",
       "    </tr>\n",
       "    <tr>\n",
       "      <th>4</th>\n",
       "      <td>5</td>\n",
       "      <td>5.0</td>\n",
       "      <td>3.6</td>\n",
       "      <td>1.4</td>\n",
       "      <td>0.2</td>\n",
       "      <td>Iris-setosa</td>\n",
       "    </tr>\n",
       "    <tr>\n",
       "      <th>...</th>\n",
       "      <td>...</td>\n",
       "      <td>...</td>\n",
       "      <td>...</td>\n",
       "      <td>...</td>\n",
       "      <td>...</td>\n",
       "      <td>...</td>\n",
       "    </tr>\n",
       "    <tr>\n",
       "      <th>145</th>\n",
       "      <td>146</td>\n",
       "      <td>6.7</td>\n",
       "      <td>3.0</td>\n",
       "      <td>5.2</td>\n",
       "      <td>2.3</td>\n",
       "      <td>Iris-virginica</td>\n",
       "    </tr>\n",
       "    <tr>\n",
       "      <th>146</th>\n",
       "      <td>147</td>\n",
       "      <td>6.3</td>\n",
       "      <td>2.5</td>\n",
       "      <td>5.0</td>\n",
       "      <td>1.9</td>\n",
       "      <td>Iris-virginica</td>\n",
       "    </tr>\n",
       "    <tr>\n",
       "      <th>147</th>\n",
       "      <td>148</td>\n",
       "      <td>6.5</td>\n",
       "      <td>3.0</td>\n",
       "      <td>5.2</td>\n",
       "      <td>2.0</td>\n",
       "      <td>Iris-virginica</td>\n",
       "    </tr>\n",
       "    <tr>\n",
       "      <th>148</th>\n",
       "      <td>149</td>\n",
       "      <td>6.2</td>\n",
       "      <td>3.4</td>\n",
       "      <td>5.4</td>\n",
       "      <td>2.3</td>\n",
       "      <td>Iris-virginica</td>\n",
       "    </tr>\n",
       "    <tr>\n",
       "      <th>149</th>\n",
       "      <td>150</td>\n",
       "      <td>5.9</td>\n",
       "      <td>3.0</td>\n",
       "      <td>5.1</td>\n",
       "      <td>1.8</td>\n",
       "      <td>Iris-virginica</td>\n",
       "    </tr>\n",
       "  </tbody>\n",
       "</table>\n",
       "<p>150 rows × 6 columns</p>\n",
       "</div>"
      ],
      "text/plain": [
       "      Id  SepalLengthCm  SepalWidthCm  PetalLengthCm  PetalWidthCm  \\\n",
       "0      1            5.1           3.5            1.4           0.2   \n",
       "1      2            4.9           3.0            1.4           0.2   \n",
       "2      3            4.7           3.2            1.3           0.2   \n",
       "3      4            4.6           3.1            1.5           0.2   \n",
       "4      5            5.0           3.6            1.4           0.2   \n",
       "..   ...            ...           ...            ...           ...   \n",
       "145  146            6.7           3.0            5.2           2.3   \n",
       "146  147            6.3           2.5            5.0           1.9   \n",
       "147  148            6.5           3.0            5.2           2.0   \n",
       "148  149            6.2           3.4            5.4           2.3   \n",
       "149  150            5.9           3.0            5.1           1.8   \n",
       "\n",
       "            Species  \n",
       "0       Iris-setosa  \n",
       "1       Iris-setosa  \n",
       "2       Iris-setosa  \n",
       "3       Iris-setosa  \n",
       "4       Iris-setosa  \n",
       "..              ...  \n",
       "145  Iris-virginica  \n",
       "146  Iris-virginica  \n",
       "147  Iris-virginica  \n",
       "148  Iris-virginica  \n",
       "149  Iris-virginica  \n",
       "\n",
       "[150 rows x 6 columns]"
      ]
     },
     "execution_count": 3,
     "metadata": {},
     "output_type": "execute_result"
    }
   ],
   "source": [
    "dataset"
   ]
  },
  {
   "cell_type": "code",
   "execution_count": 4,
   "metadata": {},
   "outputs": [
    {
     "data": {
      "text/plain": [
       "Species\n",
       "Iris-setosa        50\n",
       "Iris-versicolor    50\n",
       "Iris-virginica     50\n",
       "dtype: int64"
      ]
     },
     "execution_count": 4,
     "metadata": {},
     "output_type": "execute_result"
    }
   ],
   "source": [
    "dataset.groupby('Species').size()"
   ]
  },
  {
   "cell_type": "code",
   "execution_count": 5,
   "metadata": {},
   "outputs": [
    {
     "name": "stdout",
     "output_type": "stream",
     "text": [
      "['Iris-setosa' 'Iris-versicolor' 'Iris-virginica']\n"
     ]
    }
   ],
   "source": [
    "labels = dataset['Species'].unique()\n",
    "print(labels)"
   ]
  },
  {
   "cell_type": "code",
   "execution_count": 6,
   "metadata": {},
   "outputs": [
    {
     "data": {
      "image/png": "[encoded data removed]",
      "text/plain": [
       "<Figure size 720x360 with 1 Axes>"
      ]
     },
     "metadata": {},
     "output_type": "display_data"
    }
   ],
   "source": [
    "sns.set(style=\"darkgrid\")\n",
    "plt.figure(figsize=(10,5))\n",
    "sns.countplot(x=\"Species\", data=dataset)\n",
    "plt.show()"
   ]
  },
  {
   "cell_type": "markdown",
   "metadata": {},
   "source": [
    "## 1.1. Continous features data range"
   ]
  },
  {
   "cell_type": "code",
   "execution_count": 7,
   "metadata": {},
   "outputs": [
    {
     "name": "stdout",
     "output_type": "stream",
     "text": [
      "==========================================\n",
      "SepalLengthCm\n",
      "-------------\n",
      "           Species  min  max\n",
      "0      Iris-setosa  4.3  5.8\n",
      "1  Iris-versicolor  4.9  7.0\n",
      "2   Iris-virginica  4.9  7.9\n",
      "==========================================\n",
      "==========================================\n",
      "SepalWidthCm\n",
      "------------\n",
      "           Species  min  max\n",
      "0      Iris-setosa  2.3  4.4\n",
      "1  Iris-versicolor  2.0  3.4\n",
      "2   Iris-virginica  2.2  3.8\n",
      "==========================================\n",
      "==========================================\n",
      "PetalLengthCm\n",
      "-------------\n",
      "           Species  min  max\n",
      "0      Iris-setosa  1.0  1.9\n",
      "1  Iris-versicolor  3.0  5.1\n",
      "2   Iris-virginica  4.5  6.9\n",
      "==========================================\n",
      "==========================================\n",
      "PetalWidthCm\n",
      "------------\n",
      "           Species  min  max\n",
      "0      Iris-setosa  0.1  0.6\n",
      "1  Iris-versicolor  1.0  1.8\n",
      "2   Iris-virginica  1.4  2.5\n",
      "==========================================\n"
     ]
    }
   ],
   "source": [
    "# Range of features\n",
    "def print_data_range(data, labels, features, isreturn=False):\n",
    "    return_range = []\n",
    "    for feature in features:\n",
    "        data_range = []\n",
    "        for label in labels:\n",
    "            data_range.append([label, data[data['Species'] == label][feature].min(), data[data['Species'] == label][feature].max()])\n",
    "        res = pd.DataFrame(data_range, columns=['Species', 'min', 'max'])\n",
    "        if not isreturn:\n",
    "            print('==========================================')\n",
    "            print(feature)\n",
    "            print('-'*len(feature))\n",
    "            print(res)\n",
    "            print('==========================================')\n",
    "        if isreturn:\n",
    "            return_range.append(res.drop('Species', axis=1))\n",
    "    if isreturn:\n",
    "        return return_range, features\n",
    "        \n",
    "print_data_range(dataset, labels, list(dataset.drop(['Id', 'Species'], axis=1).columns))\n",
    "data_range, data_features = print_data_range(dataset, labels, list(dataset.drop(['Id', 'Species'], axis=1).columns), True)"
   ]
  },
  {
   "cell_type": "markdown",
   "metadata": {},
   "source": [
    "## 1.2. Visualization"
   ]
  },
  {
   "cell_type": "code",
   "execution_count": 8,
   "metadata": {},
   "outputs": [
    {
     "data": {
      "text/plain": [
       "<matplotlib.legend.Legend at 0x12d879b8>"
      ]
     },
     "execution_count": 8,
     "metadata": {},
     "output_type": "execute_result"
    },
    {
     "data": {
      "image/png": "[encoded data removed]",
      "text/plain": [
       "<Figure size 1152x576 with 4 Axes>"
      ]
     },
     "metadata": {},
     "output_type": "display_data"
    }
   ],
   "source": [
    "from matplotlib.lines import Line2D\n",
    "\n",
    "colors = ['b', 'r', 'g']\n",
    "custom_lines = [Line2D([0], [0], color=colors[0], lw=4),\n",
    "                Line2D([0], [0], color=colors[1], lw=4),\n",
    "                Line2D([0], [0], color=colors[2], lw=4)]\n",
    "\n",
    "fig, ax = plt.subplots(2, 2, figsize=(16, 8))\n",
    "\n",
    "for idx in range(3):\n",
    "    m0 = np.meshgrid(np.arange(idx, idx+1, 0.01), np.arange(data_range[0]['min'][idx], data_range[0]['max'][idx], 0.01))\n",
    "    z0 = np.zeros((m0[0].shape))\n",
    "    m1 = np.meshgrid(np.arange(idx, idx+1, 0.01), np.arange(data_range[1]['min'][idx], data_range[1]['max'][idx], 0.01))\n",
    "    z1 = np.zeros((m1[0].shape))\n",
    "    m2 = np.meshgrid(np.arange(idx, idx+1, 0.01), np.arange(data_range[2]['min'][idx], data_range[2]['max'][idx], 0.01))\n",
    "    z2 = np.zeros((m2[0].shape))\n",
    "    m3 = np.meshgrid(np.arange(idx, idx+1, 0.01), np.arange(data_range[3]['min'][idx], data_range[3]['max'][idx], 0.01))\n",
    "    z3 = np.zeros((m3[0].shape))\n",
    "    \n",
    "    ax[0, 0].contourf(m0[0], m0[1], z0, colors=colors[idx])\n",
    "    ax[0, 0].annotate(data_range[0]['min'][idx], (idx+0.45, data_range[0]['min'][idx]-0.2), color=colors[idx])\n",
    "    ax[0, 0].annotate(data_range[0]['max'][idx], (idx+0.45, data_range[0]['max'][idx]+0.1), color=colors[idx])\n",
    "    ax[1, 0].contourf(m1[0], m1[1], z1, colors=colors[idx])\n",
    "    ax[1, 0].annotate(data_range[1]['min'][idx], (idx+0.45, data_range[1]['min'][idx]-0.2), color=colors[idx])\n",
    "    ax[1, 0].annotate(data_range[1]['max'][idx], (idx+0.45, data_range[1]['max'][idx]+0.1), color=colors[idx])\n",
    "    ax[0, 1].contourf(m2[0], m2[1], z2, colors=colors[idx])\n",
    "    ax[0, 1].annotate(data_range[2]['min'][idx], (idx+0.45, data_range[2]['min'][idx]-0.3), color=colors[idx])\n",
    "    ax[0, 1].annotate(data_range[2]['max'][idx], (idx+0.45, data_range[2]['max'][idx]+0.1), color=colors[idx])\n",
    "    ax[1, 1].contourf(m3[0], m3[1], z3, colors=colors[idx])\n",
    "    ax[1, 1].annotate(data_range[3]['min'][idx], (idx+0.45, data_range[3]['min'][idx]-0.2), color=colors[idx])\n",
    "    ax[1, 1].annotate(data_range[3]['max'][idx], (idx+0.45, data_range[3]['max'][idx]+0.1), color=colors[idx])\n",
    "\n",
    "ax[0, 0].set_title(data_features[0])\n",
    "ax[0, 0].set_xticks([])\n",
    "ax[0, 0].set_yticks(np.arange(4,8.6,0.5))\n",
    "ax[1, 0].set_title(data_features[1])\n",
    "ax[1, 0].set_xticks([])\n",
    "ax[1, 0].set_yticks(np.arange(1.5,5.1,0.5))\n",
    "ax[0, 1].set_title(data_features[2])\n",
    "ax[0, 1].set_xticks([])\n",
    "ax[0, 1].set_yticks(np.arange(0.5,7.6,0.5))\n",
    "ax[1, 1].set_title(data_features[3])\n",
    "ax[1, 1].set_xticks([])\n",
    "ax[1, 1].set_yticks(np.arange(-0.5,3.1,0.5))\n",
    "\n",
    "fig.suptitle('Data range of each label', fontsize=20)\n",
    "fig.legend(custom_lines, labels, loc='upper right')"
   ]
  },
  {
   "cell_type": "markdown",
   "metadata": {},
   "source": [
    "# 2. Data Processing"
   ]
  },
  {
   "cell_type": "markdown",
   "metadata": {},
   "source": [
    "## 2.1. Grouping continous data"
   ]
  },
  {
   "cell_type": "code",
   "execution_count": 9,
   "metadata": {},
   "outputs": [],
   "source": [
    "# Dividing dataset into features and encoded labels\n",
    "X = dataset.drop(['Id', 'Species'], axis=1)\n",
    "y = dataset['Species'].apply(lambda x: list(labels).index(x))"
   ]
  },
  {
   "cell_type": "code",
   "execution_count": 10,
   "metadata": {},
   "outputs": [
    {
     "data": {
      "text/html": [
       "<div>\n",
       "<style scoped>\n",
       "    .dataframe tbody tr th:only-of-type {\n",
       "        vertical-align: middle;\n",
       "    }\n",
       "\n",
       "    .dataframe tbody tr th {\n",
       "        vertical-align: top;\n",
       "    }\n",
       "\n",
       "    .dataframe thead th {\n",
       "        text-align: right;\n",
       "    }\n",
       "</style>\n",
       "<table border=\"1\" class=\"dataframe\">\n",
       "  <thead>\n",
       "    <tr style=\"text-align: right;\">\n",
       "      <th></th>\n",
       "      <th>SepalLengthCm</th>\n",
       "      <th>SepalWidthCm</th>\n",
       "      <th>PetalLengthCm</th>\n",
       "      <th>PetalWidthCm</th>\n",
       "    </tr>\n",
       "  </thead>\n",
       "  <tbody>\n",
       "    <tr>\n",
       "      <th>0</th>\n",
       "      <td>5.1</td>\n",
       "      <td>3.5</td>\n",
       "      <td>1.4</td>\n",
       "      <td>0.2</td>\n",
       "    </tr>\n",
       "    <tr>\n",
       "      <th>1</th>\n",
       "      <td>4.9</td>\n",
       "      <td>3.0</td>\n",
       "      <td>1.4</td>\n",
       "      <td>0.2</td>\n",
       "    </tr>\n",
       "    <tr>\n",
       "      <th>2</th>\n",
       "      <td>4.7</td>\n",
       "      <td>3.2</td>\n",
       "      <td>1.3</td>\n",
       "      <td>0.2</td>\n",
       "    </tr>\n",
       "    <tr>\n",
       "      <th>3</th>\n",
       "      <td>4.6</td>\n",
       "      <td>3.1</td>\n",
       "      <td>1.5</td>\n",
       "      <td>0.2</td>\n",
       "    </tr>\n",
       "    <tr>\n",
       "      <th>4</th>\n",
       "      <td>5.0</td>\n",
       "      <td>3.6</td>\n",
       "      <td>1.4</td>\n",
       "      <td>0.2</td>\n",
       "    </tr>\n",
       "    <tr>\n",
       "      <th>...</th>\n",
       "      <td>...</td>\n",
       "      <td>...</td>\n",
       "      <td>...</td>\n",
       "      <td>...</td>\n",
       "    </tr>\n",
       "    <tr>\n",
       "      <th>145</th>\n",
       "      <td>6.7</td>\n",
       "      <td>3.0</td>\n",
       "      <td>5.2</td>\n",
       "      <td>2.3</td>\n",
       "    </tr>\n",
       "    <tr>\n",
       "      <th>146</th>\n",
       "      <td>6.3</td>\n",
       "      <td>2.5</td>\n",
       "      <td>5.0</td>\n",
       "      <td>1.9</td>\n",
       "    </tr>\n",
       "    <tr>\n",
       "      <th>147</th>\n",
       "      <td>6.5</td>\n",
       "      <td>3.0</td>\n",
       "      <td>5.2</td>\n",
       "      <td>2.0</td>\n",
       "    </tr>\n",
       "    <tr>\n",
       "      <th>148</th>\n",
       "      <td>6.2</td>\n",
       "      <td>3.4</td>\n",
       "      <td>5.4</td>\n",
       "      <td>2.3</td>\n",
       "    </tr>\n",
       "    <tr>\n",
       "      <th>149</th>\n",
       "      <td>5.9</td>\n",
       "      <td>3.0</td>\n",
       "      <td>5.1</td>\n",
       "      <td>1.8</td>\n",
       "    </tr>\n",
       "  </tbody>\n",
       "</table>\n",
       "<p>150 rows × 4 columns</p>\n",
       "</div>"
      ],
      "text/plain": [
       "     SepalLengthCm  SepalWidthCm  PetalLengthCm  PetalWidthCm\n",
       "0              5.1           3.5            1.4           0.2\n",
       "1              4.9           3.0            1.4           0.2\n",
       "2              4.7           3.2            1.3           0.2\n",
       "3              4.6           3.1            1.5           0.2\n",
       "4              5.0           3.6            1.4           0.2\n",
       "..             ...           ...            ...           ...\n",
       "145            6.7           3.0            5.2           2.3\n",
       "146            6.3           2.5            5.0           1.9\n",
       "147            6.5           3.0            5.2           2.0\n",
       "148            6.2           3.4            5.4           2.3\n",
       "149            5.9           3.0            5.1           1.8\n",
       "\n",
       "[150 rows x 4 columns]"
      ]
     },
     "execution_count": 10,
     "metadata": {},
     "output_type": "execute_result"
    }
   ],
   "source": [
    "X"
   ]
  },
  {
   "cell_type": "code",
   "execution_count": 11,
   "metadata": {},
   "outputs": [
    {
     "data": {
      "text/plain": [
       "0      0\n",
       "1      0\n",
       "2      0\n",
       "3      0\n",
       "4      0\n",
       "      ..\n",
       "145    2\n",
       "146    2\n",
       "147    2\n",
       "148    2\n",
       "149    2\n",
       "Name: Species, Length: 150, dtype: int64"
      ]
     },
     "execution_count": 11,
     "metadata": {},
     "output_type": "execute_result"
    }
   ],
   "source": [
    "y"
   ]
  },
  {
   "cell_type": "code",
   "execution_count": 12,
   "metadata": {},
   "outputs": [
    {
     "data": {
      "text/html": [
       "<div>\n",
       "<style scoped>\n",
       "    .dataframe tbody tr th:only-of-type {\n",
       "        vertical-align: middle;\n",
       "    }\n",
       "\n",
       "    .dataframe tbody tr th {\n",
       "        vertical-align: top;\n",
       "    }\n",
       "\n",
       "    .dataframe thead th {\n",
       "        text-align: right;\n",
       "    }\n",
       "</style>\n",
       "<table border=\"1\" class=\"dataframe\">\n",
       "  <thead>\n",
       "    <tr style=\"text-align: right;\">\n",
       "      <th></th>\n",
       "      <th>SepalLengthCm</th>\n",
       "      <th>SepalWidthCm</th>\n",
       "      <th>PetalLengthCm</th>\n",
       "      <th>PetalWidthCm</th>\n",
       "    </tr>\n",
       "  </thead>\n",
       "  <tbody>\n",
       "    <tr>\n",
       "      <th>0</th>\n",
       "      <td>1</td>\n",
       "      <td>3</td>\n",
       "      <td>0</td>\n",
       "      <td>0</td>\n",
       "    </tr>\n",
       "    <tr>\n",
       "      <th>1</th>\n",
       "      <td>1</td>\n",
       "      <td>2</td>\n",
       "      <td>0</td>\n",
       "      <td>0</td>\n",
       "    </tr>\n",
       "    <tr>\n",
       "      <th>2</th>\n",
       "      <td>0</td>\n",
       "      <td>2</td>\n",
       "      <td>0</td>\n",
       "      <td>0</td>\n",
       "    </tr>\n",
       "    <tr>\n",
       "      <th>3</th>\n",
       "      <td>0</td>\n",
       "      <td>2</td>\n",
       "      <td>0</td>\n",
       "      <td>0</td>\n",
       "    </tr>\n",
       "    <tr>\n",
       "      <th>4</th>\n",
       "      <td>1</td>\n",
       "      <td>3</td>\n",
       "      <td>0</td>\n",
       "      <td>0</td>\n",
       "    </tr>\n",
       "    <tr>\n",
       "      <th>...</th>\n",
       "      <td>...</td>\n",
       "      <td>...</td>\n",
       "      <td>...</td>\n",
       "      <td>...</td>\n",
       "    </tr>\n",
       "    <tr>\n",
       "      <th>145</th>\n",
       "      <td>2</td>\n",
       "      <td>2</td>\n",
       "      <td>3</td>\n",
       "      <td>3</td>\n",
       "    </tr>\n",
       "    <tr>\n",
       "      <th>146</th>\n",
       "      <td>2</td>\n",
       "      <td>2</td>\n",
       "      <td>2</td>\n",
       "      <td>3</td>\n",
       "    </tr>\n",
       "    <tr>\n",
       "      <th>147</th>\n",
       "      <td>2</td>\n",
       "      <td>2</td>\n",
       "      <td>3</td>\n",
       "      <td>3</td>\n",
       "    </tr>\n",
       "    <tr>\n",
       "      <th>148</th>\n",
       "      <td>2</td>\n",
       "      <td>2</td>\n",
       "      <td>3</td>\n",
       "      <td>3</td>\n",
       "    </tr>\n",
       "    <tr>\n",
       "      <th>149</th>\n",
       "      <td>2</td>\n",
       "      <td>2</td>\n",
       "      <td>2</td>\n",
       "      <td>3</td>\n",
       "    </tr>\n",
       "  </tbody>\n",
       "</table>\n",
       "<p>150 rows × 4 columns</p>\n",
       "</div>"
      ],
      "text/plain": [
       "     SepalLengthCm  SepalWidthCm  PetalLengthCm  PetalWidthCm\n",
       "0                1             3              0             0\n",
       "1                1             2              0             0\n",
       "2                0             2              0             0\n",
       "3                0             2              0             0\n",
       "4                1             3              0             0\n",
       "..             ...           ...            ...           ...\n",
       "145              2             2              3             3\n",
       "146              2             2              2             3\n",
       "147              2             2              3             3\n",
       "148              2             2              3             3\n",
       "149              2             2              2             3\n",
       "\n",
       "[150 rows x 4 columns]"
      ]
     },
     "execution_count": 12,
     "metadata": {},
     "output_type": "execute_result"
    }
   ],
   "source": [
    "pd.options.mode.chained_assignment = None  # default='warn'\n",
    "\n",
    "# Grouping SepalLengthCm\n",
    "X.loc[(X[data_features[0]] >= data_range[0]['min'][0]) & (X[data_features[0]] < data_range[0]['min'][1]), data_features[0]] = 0    # min0 -> min1\n",
    "X.loc[(X[data_features[0]] >= data_range[0]['min'][1]) & (X[data_features[0]] <= data_range[0]['max'][0]), data_features[0]] = 1   # min1 -> max0\n",
    "X.loc[(X[data_features[0]] > data_range[0]['max'][0]) & (X[data_features[0]] <= data_range[0]['max'][1]), data_features[0]] = 2    # max0 -> max1\n",
    "X.loc[(X[data_features[0]] > data_range[0]['max'][1]) & (X[data_features[0]] <= data_range[0]['max'][2]), data_features[0]] = 3    # max1 -> max2\n",
    "X[data_features[0]] = X[data_features[0]].astype('int')\n",
    "\n",
    "# Grouping SepalWidthCm\n",
    "X.loc[(X[data_features[1]] >= data_range[1]['min'][1]) & (X[data_features[1]] < data_range[1]['min'][2]), data_features[1]] = 0    # min1 -> min2\n",
    "X.loc[(X[data_features[1]] >= data_range[1]['min'][2]) & (X[data_features[1]] < data_range[1]['min'][0]), data_features[1]] = 1    # min2 -> min0\n",
    "X.loc[(X[data_features[1]] >= data_range[1]['min'][0]) & (X[data_features[1]] <= data_range[1]['max'][1]), data_features[1]] = 2   # min0 -> max1\n",
    "X.loc[(X[data_features[1]] > data_range[1]['max'][1]) & (X[data_features[1]] <= data_range[1]['max'][2]), data_features[1]] = 3    # max1 -> max2\n",
    "X.loc[(X[data_features[1]] > data_range[1]['max'][2]) & (X[data_features[1]] <= data_range[1]['max'][0]), data_features[1]] = 4    # max2 -> max0\n",
    "X[data_features[1]] = X[data_features[1]].astype('int')\n",
    "\n",
    "# Grouping PetalLengthCm\n",
    "X.loc[(X[data_features[2]] >= data_range[2]['min'][0]) & (X[data_features[2]] <= data_range[2]['max'][0]), data_features[2]] = 0   # min0 -> max0\n",
    "X.loc[(X[data_features[2]] >= data_range[2]['min'][1]) & (X[data_features[2]] < data_range[2]['min'][2]), data_features[2]] = 1    # min1 -> min2\n",
    "X.loc[(X[data_features[2]] >= data_range[2]['min'][2]) & (X[data_features[2]] <= data_range[2]['max'][1]), data_features[2]] = 2   # min2 -> max1\n",
    "X.loc[(X[data_features[2]] > data_range[2]['max'][1]) & (X[data_features[2]] <= data_range[2]['max'][2]), data_features[2]] = 3    # max1 -> max2\n",
    "X[data_features[2]] = X[data_features[2]].astype('int')\n",
    "\n",
    "# Grouping PetalWidthCm\n",
    "X.loc[(X[data_features[3]] >= data_range[3]['min'][0]) & (X[data_features[3]] <= data_range[3]['min'][0]), data_features[3]] = 0   # min0 -> max0\n",
    "X.loc[(X[data_features[3]] >= data_range[3]['min'][1]) & (X[data_features[3]] < data_range[3]['min'][2]), data_features[3]] = 1    # min1 -> min2\n",
    "X.loc[(X[data_features[3]] >= data_range[3]['min'][2]) & (X[data_features[3]] <= data_range[3]['max'][1]), data_features[3]] = 2   # min2 -> max1\n",
    "X.loc[(X[data_features[3]] > data_range[3]['max'][1]) & (X[data_features[3]] <= data_range[3]['max'][2]), data_features[3]] = 3    # max1 -> max2\n",
    "X[data_features[3]] = X[data_features[3]].astype('int')\n",
    "\n",
    "X"
   ]
  },
  {
   "cell_type": "code",
   "execution_count": 13,
   "metadata": {},
   "outputs": [
    {
     "data": {
      "text/plain": [
       "<seaborn.axisgrid.FacetGrid at 0x12e36028>"
      ]
     },
     "execution_count": 13,
     "metadata": {},
     "output_type": "execute_result"
    },
    {
     "data": {
      "image/png": "[encoded data removed]",
      "text/plain": [
       "<Figure size 1440x360 with 4 Axes>"
      ]
     },
     "metadata": {},
     "output_type": "display_data"
    },
    {
     "data": {
      "image/png": "[encoded data removed]",
      "text/plain": [
       "<Figure size 1800x360 with 5 Axes>"
      ]
     },
     "metadata": {},
     "output_type": "display_data"
    },
    {
     "data": {
      "image/png": "[encoded data removed]",
      "text/plain": [
       "<Figure size 1440x360 with 4 Axes>"
      ]
     },
     "metadata": {},
     "output_type": "display_data"
    },
    {
     "data": {
      "image/png": "[encoded data removed]",
      "text/plain": [
       "<Figure size 1080x360 with 3 Axes>"
      ]
     },
     "metadata": {},
     "output_type": "display_data"
    }
   ],
   "source": [
    "# Visualization\n",
    "dataplot = X.copy()\n",
    "dataplot['Species'] = dataset['Species'].copy()\n",
    "sns.catplot(x=\"Species\", hue=\"Species\", col=\"SepalLengthCm\", data=dataplot, kind=\"count\")\n",
    "sns.catplot(x=\"Species\", hue=\"Species\", col=\"SepalWidthCm\", data=dataplot, kind=\"count\")\n",
    "sns.catplot(x=\"Species\", hue=\"Species\", col=\"PetalLengthCm\", data=dataplot, kind=\"count\")\n",
    "sns.catplot(x=\"Species\", hue=\"Species\", col=\"PetalWidthCm\", data=dataplot, kind=\"count\")"
   ]
  },
  {
   "cell_type": "markdown",
   "metadata": {},
   "source": [
    "## 2.2. Splitting data"
   ]
  },
  {
   "cell_type": "code",
   "execution_count": 14,
   "metadata": {},
   "outputs": [
    {
     "name": "stdout",
     "output_type": "stream",
     "text": [
      "(120, 4) (120,)\n",
      "(30, 4) (30,)\n"
     ]
    }
   ],
   "source": [
    "# Splitting into train set and test set\n",
    "from sklearn.model_selection import train_test_split  \n",
    "X_train, X_test, y_train, y_test = train_test_split(X, y, test_size=0.2)\n",
    "\n",
    "print(X_train.shape, y_train.shape)\n",
    "print(X_test.shape, y_test.shape)"
   ]
  },
  {
   "cell_type": "code",
   "execution_count": 15,
   "metadata": {},
   "outputs": [
    {
     "data": {
      "text/html": [
       "<div>\n",
       "<style scoped>\n",
       "    .dataframe tbody tr th:only-of-type {\n",
       "        vertical-align: middle;\n",
       "    }\n",
       "\n",
       "    .dataframe tbody tr th {\n",
       "        vertical-align: top;\n",
       "    }\n",
       "\n",
       "    .dataframe thead th {\n",
       "        text-align: right;\n",
       "    }\n",
       "</style>\n",
       "<table border=\"1\" class=\"dataframe\">\n",
       "  <thead>\n",
       "    <tr style=\"text-align: right;\">\n",
       "      <th></th>\n",
       "      <th>SepalLengthCm</th>\n",
       "      <th>SepalWidthCm</th>\n",
       "      <th>PetalLengthCm</th>\n",
       "      <th>PetalWidthCm</th>\n",
       "    </tr>\n",
       "  </thead>\n",
       "  <tbody>\n",
       "    <tr>\n",
       "      <th>0</th>\n",
       "      <td>1</td>\n",
       "      <td>3</td>\n",
       "      <td>0</td>\n",
       "      <td>0</td>\n",
       "    </tr>\n",
       "    <tr>\n",
       "      <th>90</th>\n",
       "      <td>1</td>\n",
       "      <td>2</td>\n",
       "      <td>1</td>\n",
       "      <td>1</td>\n",
       "    </tr>\n",
       "    <tr>\n",
       "      <th>63</th>\n",
       "      <td>2</td>\n",
       "      <td>2</td>\n",
       "      <td>2</td>\n",
       "      <td>3</td>\n",
       "    </tr>\n",
       "    <tr>\n",
       "      <th>58</th>\n",
       "      <td>2</td>\n",
       "      <td>2</td>\n",
       "      <td>2</td>\n",
       "      <td>1</td>\n",
       "    </tr>\n",
       "    <tr>\n",
       "      <th>55</th>\n",
       "      <td>1</td>\n",
       "      <td>2</td>\n",
       "      <td>2</td>\n",
       "      <td>1</td>\n",
       "    </tr>\n",
       "  </tbody>\n",
       "</table>\n",
       "</div>"
      ],
      "text/plain": [
       "    SepalLengthCm  SepalWidthCm  PetalLengthCm  PetalWidthCm\n",
       "0               1             3              0             0\n",
       "90              1             2              1             1\n",
       "63              2             2              2             3\n",
       "58              2             2              2             1\n",
       "55              1             2              2             1"
      ]
     },
     "execution_count": 15,
     "metadata": {},
     "output_type": "execute_result"
    }
   ],
   "source": [
    "X_train.head()"
   ]
  },
  {
   "cell_type": "code",
   "execution_count": 16,
   "metadata": {},
   "outputs": [
    {
     "data": {
      "text/html": [
       "<div>\n",
       "<style scoped>\n",
       "    .dataframe tbody tr th:only-of-type {\n",
       "        vertical-align: middle;\n",
       "    }\n",
       "\n",
       "    .dataframe tbody tr th {\n",
       "        vertical-align: top;\n",
       "    }\n",
       "\n",
       "    .dataframe thead th {\n",
       "        text-align: right;\n",
       "    }\n",
       "</style>\n",
       "<table border=\"1\" class=\"dataframe\">\n",
       "  <thead>\n",
       "    <tr style=\"text-align: right;\">\n",
       "      <th></th>\n",
       "      <th>SepalLengthCm</th>\n",
       "      <th>SepalWidthCm</th>\n",
       "      <th>PetalLengthCm</th>\n",
       "      <th>PetalWidthCm</th>\n",
       "    </tr>\n",
       "  </thead>\n",
       "  <tbody>\n",
       "    <tr>\n",
       "      <th>41</th>\n",
       "      <td>0</td>\n",
       "      <td>2</td>\n",
       "      <td>0</td>\n",
       "      <td>0</td>\n",
       "    </tr>\n",
       "    <tr>\n",
       "      <th>11</th>\n",
       "      <td>0</td>\n",
       "      <td>2</td>\n",
       "      <td>0</td>\n",
       "      <td>0</td>\n",
       "    </tr>\n",
       "    <tr>\n",
       "      <th>57</th>\n",
       "      <td>1</td>\n",
       "      <td>2</td>\n",
       "      <td>1</td>\n",
       "      <td>1</td>\n",
       "    </tr>\n",
       "    <tr>\n",
       "      <th>128</th>\n",
       "      <td>2</td>\n",
       "      <td>2</td>\n",
       "      <td>3</td>\n",
       "      <td>3</td>\n",
       "    </tr>\n",
       "    <tr>\n",
       "      <th>127</th>\n",
       "      <td>2</td>\n",
       "      <td>2</td>\n",
       "      <td>2</td>\n",
       "      <td>3</td>\n",
       "    </tr>\n",
       "  </tbody>\n",
       "</table>\n",
       "</div>"
      ],
      "text/plain": [
       "     SepalLengthCm  SepalWidthCm  PetalLengthCm  PetalWidthCm\n",
       "41               0             2              0             0\n",
       "11               0             2              0             0\n",
       "57               1             2              1             1\n",
       "128              2             2              3             3\n",
       "127              2             2              2             3"
      ]
     },
     "execution_count": 16,
     "metadata": {},
     "output_type": "execute_result"
    }
   ],
   "source": [
    "X_test.head()"
   ]
  },
  {
   "cell_type": "markdown",
   "metadata": {},
   "source": [
    "# 3. DecisionTreeClassifier"
   ]
  },
  {
   "cell_type": "code",
   "execution_count": 17,
   "metadata": {},
   "outputs": [],
   "source": [
    "from sklearn.tree import DecisionTreeClassifier\n",
    "from sklearn.metrics import accuracy_score, confusion_matrix\n",
    "from sklearn.model_selection import cross_val_score\n",
    "from sklearn.tree import export_graphviz\n",
    "import graphviz"
   ]
  },
  {
   "cell_type": "markdown",
   "metadata": {},
   "source": [
    "## Creating class"
   ]
  },
  {
   "cell_type": "code",
   "execution_count": 18,
   "metadata": {},
   "outputs": [],
   "source": [
    "class DecisionTree():\n",
    "    def __init__(self, depth, criterion):\n",
    "        self.depth = depth\n",
    "        self.criterion = criterion\n",
    "        self.decision_tree = DecisionTreeClassifier(max_depth=depth, criterion=criterion)\n",
    "        self.y_pred = None\n",
    "        \n",
    "    # Fitting the model\n",
    "    def fit(self, X_train, y_train):\n",
    "        self.decision_tree.fit(np.array(X_train), np.array(y_train))\n",
    "        print(self.decision_tree)\n",
    "        \n",
    "    # Predicting on the test set\n",
    "    def predict(self, X_test):\n",
    "        self.y_pred = self.decision_tree.predict(np.array(X_test))\n",
    "        print(self.y_pred)\n",
    "    \n",
    "    # Evaluating the model\n",
    "    def evaluate(self, y_test):\n",
    "        # Confusion matrix\n",
    "        cm = confusion_matrix(y_test, self.y_pred)\n",
    "        \n",
    "        # Using accuracy_score\n",
    "        accuracy = accuracy_score(y_test, self.y_pred)*100\n",
    "        \n",
    "        print('Confusion matrix: ')\n",
    "        print(cm)\n",
    "        print('Accuracy of our model is equal ' + str(round(accuracy, 2)) + ' %.')\n",
    "        \n",
    "    # Visualizing Decision tree graph\n",
    "    def visualize_decision_tree(self):\n",
    "        dot_data = export_graphviz(self.decision_tree, out_file=None)\n",
    "        graph = graphviz.Source(dot_data)\n",
    "        return graph\n",
    "        \n",
    "    # Choosing best depth by calculating the average cross-valiation accuracy\n",
    "    @staticmethod\n",
    "    def choose_best_depth(max_depth, X, y, criterion):\n",
    "        # Max tree depth\n",
    "        max_depth_range = list(range(1, max_depth + 1))\n",
    "\n",
    "        # Average Cross-validation accuracy list\n",
    "        cv_acc = list()\n",
    "\n",
    "        # Looping depth to calculate the average cross-valiation accuracy of the decision tree on each depth\n",
    "        for depth in max_depth_range:\n",
    "            cv_acc.append(cross_val_score(DecisionTreeClassifier(max_depth=depth, criterion=criterion), np.array(X), np.array(y), cv=10, scoring='accuracy', n_jobs=-1).mean())\n",
    "\n",
    "        # Showing the results\n",
    "        df = pd.DataFrame({\"Max Depth\": max_depth_range, \"Average Cross-validdation Accuracy\": cv_acc})\n",
    "        print(df.to_string(index=False))\n",
    "\n",
    "        # Choosing the best depth\n",
    "        best_depth_idx = np.array(cv_acc).argmax()\n",
    "        best_depth = max_depth_range[best_depth_idx]\n",
    "        print('Best depth: ' + str(best_depth))\n",
    "        \n",
    "        return (max_depth_range, cv_acc, best_depth)\n",
    "    \n",
    "    # Plotting cross-validation accuracy by depth\n",
    "    @staticmethod\n",
    "    def plot_cv_acc(max_depth_range, cv_acc, best_depth):\n",
    "        # Generate plot\n",
    "        plt.figure(figsize=(10,5))\n",
    "        plt.title('Decision tree accuracy by depth')\n",
    "        plt.plot(max_depth_range, cv_acc, label='Cross-validation', color='g')\n",
    "        plt.legend()\n",
    "        plt.xlabel('Depth')\n",
    "        plt.ylabel('Accuracy')\n",
    "        plt.xticks(max_depth_range)\n",
    "        plt.plot(best_depth, np.array(cv_acc).max(), marker='o', color='g')\n",
    "        plt.annotate(str(format(np.array(cv_acc).max(), '.3f')) + '...', xy=(best_depth - 0.08, np.array(cv_acc).max() - 0.01), color='g')\n",
    "        plt.show()"
   ]
  },
  {
   "cell_type": "markdown",
   "metadata": {},
   "source": [
    "## 3.1. Using entropy"
   ]
  },
  {
   "cell_type": "markdown",
   "metadata": {},
   "source": [
    "### 3.1.1. Choosing best depth"
   ]
  },
  {
   "cell_type": "code",
   "execution_count": 19,
   "metadata": {},
   "outputs": [
    {
     "name": "stdout",
     "output_type": "stream",
     "text": [
      " Max Depth  Average Cross-validdation Accuracy\n",
      "         1                               0.650\n",
      "         2                               0.875\n",
      "         3                               0.875\n",
      "         4                               0.850\n",
      "Best depth: 2\n"
     ]
    }
   ],
   "source": [
    "# Choosing best depth\n",
    "entr_max_depth_range, entr_cv_acc, entr_best_depth = DecisionTree.choose_best_depth(len(X_test.columns), X_train, y_train, 'entropy')"
   ]
  },
  {
   "cell_type": "code",
   "execution_count": 20,
   "metadata": {},
   "outputs": [
    {
     "data": {
      "image/png": "[encoded data removed]",
      "text/plain": [
       "<Figure size 720x360 with 1 Axes>"
      ]
     },
     "metadata": {},
     "output_type": "display_data"
    }
   ],
   "source": [
    "# Plotting\n",
    "DecisionTree.plot_cv_acc(entr_max_depth_range, entr_cv_acc, entr_best_depth)"
   ]
  },
  {
   "cell_type": "markdown",
   "metadata": {},
   "source": [
    "### 3.1.2. Fitting the model"
   ]
  },
  {
   "cell_type": "code",
   "execution_count": 21,
   "metadata": {},
   "outputs": [
    {
     "name": "stdout",
     "output_type": "stream",
     "text": [
      "DecisionTreeClassifier(criterion='entropy', max_depth=2)\n"
     ]
    }
   ],
   "source": [
    "# Decision tree with best depth\n",
    "entr_decision_tree = DecisionTree(entr_best_depth, 'entropy')\n",
    "\n",
    "# Fitting the model\n",
    "entr_decision_tree.fit(np.array(X_train), np.array(y_train))"
   ]
  },
  {
   "cell_type": "markdown",
   "metadata": {},
   "source": [
    "### 3.1.3. Prediction"
   ]
  },
  {
   "cell_type": "code",
   "execution_count": 22,
   "metadata": {},
   "outputs": [
    {
     "name": "stdout",
     "output_type": "stream",
     "text": [
      "[0 0 1 2 1 0 1 2 0 1 1 1 0 2 0 1 2 0 1 0 0 1 2 0 2 0 1 0 2 2]\n"
     ]
    }
   ],
   "source": [
    "# Predicting on the test set\n",
    "entr_decision_tree.predict(X_test)"
   ]
  },
  {
   "cell_type": "markdown",
   "metadata": {},
   "source": [
    "### 3.1.4. Evaluating"
   ]
  },
  {
   "cell_type": "code",
   "execution_count": 23,
   "metadata": {},
   "outputs": [
    {
     "name": "stdout",
     "output_type": "stream",
     "text": [
      "Confusion matrix: \n",
      "[[12  0  0]\n",
      " [ 0  9  0]\n",
      " [ 0  1  8]]\n",
      "Accuracy of our model is equal 96.67 %.\n"
     ]
    }
   ],
   "source": [
    "# Evaluating the model\n",
    "entr_decision_tree.evaluate(y_test)"
   ]
  },
  {
   "cell_type": "markdown",
   "metadata": {},
   "source": [
    "### 3.1.5. Visualizing Decision Tree"
   ]
  },
  {
   "cell_type": "code",
   "execution_count": 24,
   "metadata": {},
   "outputs": [
    {
     "data": {
      "image/svg+xml": [
       "<?xml version=\"1.0\" encoding=\"UTF-8\" standalone=\"no\"?>\r\n",
       "<!DOCTYPE svg PUBLIC \"-//W3C//DTD SVG 1.1//EN\"\r\n",
       " \"http://www.w3.org/Graphics/SVG/1.1/DTD/svg11.dtd\">\r\n",
       "<!-- Generated by graphviz version 2.38.0 (20140413.2041)\r\n",
       " -->\r\n",
       "<!-- Title: Tree Pages: 1 -->\r\n",
       "<svg width=\"321pt\" height=\"269pt\"\r\n",
       " viewBox=\"0.00 0.00 321.00 269.00\" xmlns=\"http://www.w3.org/2000/svg\" xmlns:xlink=\"http://www.w3.org/1999/xlink\">\r\n",
       "<g id=\"graph0\" class=\"graph\" transform=\"scale(1 1) rotate(0) translate(4 265)\">\r\n",
       "<title>Tree</title>\r\n",
       "<polygon fill=\"white\" stroke=\"none\" points=\"-4,4 -4,-265 317,-265 317,4 -4,4\"/>\r\n",
       "<!-- 0 -->\r\n",
       "<g id=\"node1\" class=\"node\"><title>0</title>\r\n",
       "<polygon fill=\"none\" stroke=\"black\" points=\"185.5,-261 60.5,-261 60.5,-193 185.5,-193 185.5,-261\"/>\r\n",
       "<text text-anchor=\"middle\" x=\"123\" y=\"-245.8\" font-family=\"Times New Roman,serif\" font-size=\"14.00\">X[2] &lt;= 0.5</text>\r\n",
       "<text text-anchor=\"middle\" x=\"123\" y=\"-230.8\" font-family=\"Times New Roman,serif\" font-size=\"14.00\">entropy = 1.584</text>\r\n",
       "<text text-anchor=\"middle\" x=\"123\" y=\"-215.8\" font-family=\"Times New Roman,serif\" font-size=\"14.00\">samples = 120</text>\r\n",
       "<text text-anchor=\"middle\" x=\"123\" y=\"-200.8\" font-family=\"Times New Roman,serif\" font-size=\"14.00\">value = [38, 41, 41]</text>\r\n",
       "</g>\r\n",
       "<!-- 1 -->\r\n",
       "<g id=\"node2\" class=\"node\"><title>1</title>\r\n",
       "<polygon fill=\"none\" stroke=\"black\" points=\"112,-149.5 7.10543e-015,-149.5 7.10543e-015,-96.5 112,-96.5 112,-149.5\"/>\r\n",
       "<text text-anchor=\"middle\" x=\"56\" y=\"-134.3\" font-family=\"Times New Roman,serif\" font-size=\"14.00\">entropy = 0.0</text>\r\n",
       "<text text-anchor=\"middle\" x=\"56\" y=\"-119.3\" font-family=\"Times New Roman,serif\" font-size=\"14.00\">samples = 38</text>\r\n",
       "<text text-anchor=\"middle\" x=\"56\" y=\"-104.3\" font-family=\"Times New Roman,serif\" font-size=\"14.00\">value = [38, 0, 0]</text>\r\n",
       "</g>\r\n",
       "<!-- 0&#45;&gt;1 -->\r\n",
       "<g id=\"edge1\" class=\"edge\"><title>0&#45;&gt;1</title>\r\n",
       "<path fill=\"none\" stroke=\"black\" d=\"M101.247,-192.884C93.9507,-181.776 85.8031,-169.372 78.4541,-158.184\"/>\r\n",
       "<polygon fill=\"black\" stroke=\"black\" points=\"81.1786,-155.957 72.7631,-149.52 75.3279,-159.8 81.1786,-155.957\"/>\r\n",
       "<text text-anchor=\"middle\" x=\"67.6932\" y=\"-170.3\" font-family=\"Times New Roman,serif\" font-size=\"14.00\">True</text>\r\n",
       "</g>\r\n",
       "<!-- 2 -->\r\n",
       "<g id=\"node3\" class=\"node\"><title>2</title>\r\n",
       "<polygon fill=\"none\" stroke=\"black\" points=\"249.5,-157 130.5,-157 130.5,-89 249.5,-89 249.5,-157\"/>\r\n",
       "<text text-anchor=\"middle\" x=\"190\" y=\"-141.8\" font-family=\"Times New Roman,serif\" font-size=\"14.00\">X[2] &lt;= 2.5</text>\r\n",
       "<text text-anchor=\"middle\" x=\"190\" y=\"-126.8\" font-family=\"Times New Roman,serif\" font-size=\"14.00\">entropy = 1.0</text>\r\n",
       "<text text-anchor=\"middle\" x=\"190\" y=\"-111.8\" font-family=\"Times New Roman,serif\" font-size=\"14.00\">samples = 82</text>\r\n",
       "<text text-anchor=\"middle\" x=\"190\" y=\"-96.8\" font-family=\"Times New Roman,serif\" font-size=\"14.00\">value = [0, 41, 41]</text>\r\n",
       "</g>\r\n",
       "<!-- 0&#45;&gt;2 -->\r\n",
       "<g id=\"edge2\" class=\"edge\"><title>0&#45;&gt;2</title>\r\n",
       "<path fill=\"none\" stroke=\"black\" d=\"M144.753,-192.884C150.428,-184.243 156.619,-174.819 162.548,-165.793\"/>\r\n",
       "<polygon fill=\"black\" stroke=\"black\" points=\"165.562,-167.579 168.127,-157.299 159.711,-163.736 165.562,-167.579\"/>\r\n",
       "<text text-anchor=\"middle\" x=\"173.197\" y=\"-178.08\" font-family=\"Times New Roman,serif\" font-size=\"14.00\">False</text>\r\n",
       "</g>\r\n",
       "<!-- 3 -->\r\n",
       "<g id=\"node4\" class=\"node\"><title>3</title>\r\n",
       "<polygon fill=\"none\" stroke=\"black\" points=\"182.5,-53 63.5,-53 63.5,-0 182.5,-0 182.5,-53\"/>\r\n",
       "<text text-anchor=\"middle\" x=\"123\" y=\"-37.8\" font-family=\"Times New Roman,serif\" font-size=\"14.00\">entropy = 0.838</text>\r\n",
       "<text text-anchor=\"middle\" x=\"123\" y=\"-22.8\" font-family=\"Times New Roman,serif\" font-size=\"14.00\">samples = 56</text>\r\n",
       "<text text-anchor=\"middle\" x=\"123\" y=\"-7.8\" font-family=\"Times New Roman,serif\" font-size=\"14.00\">value = [0, 41, 15]</text>\r\n",
       "</g>\r\n",
       "<!-- 2&#45;&gt;3 -->\r\n",
       "<g id=\"edge3\" class=\"edge\"><title>2&#45;&gt;3</title>\r\n",
       "<path fill=\"none\" stroke=\"black\" d=\"M166.567,-88.9485C160.275,-80.0749 153.462,-70.4648 147.133,-61.5388\"/>\r\n",
       "<polygon fill=\"black\" stroke=\"black\" points=\"149.886,-59.3701 141.247,-53.2367 144.176,-63.4188 149.886,-59.3701\"/>\r\n",
       "</g>\r\n",
       "<!-- 4 -->\r\n",
       "<g id=\"node5\" class=\"node\"><title>4</title>\r\n",
       "<polygon fill=\"none\" stroke=\"black\" points=\"313,-53 201,-53 201,-0 313,-0 313,-53\"/>\r\n",
       "<text text-anchor=\"middle\" x=\"257\" y=\"-37.8\" font-family=\"Times New Roman,serif\" font-size=\"14.00\">entropy = 0.0</text>\r\n",
       "<text text-anchor=\"middle\" x=\"257\" y=\"-22.8\" font-family=\"Times New Roman,serif\" font-size=\"14.00\">samples = 26</text>\r\n",
       "<text text-anchor=\"middle\" x=\"257\" y=\"-7.8\" font-family=\"Times New Roman,serif\" font-size=\"14.00\">value = [0, 0, 26]</text>\r\n",
       "</g>\r\n",
       "<!-- 2&#45;&gt;4 -->\r\n",
       "<g id=\"edge4\" class=\"edge\"><title>2&#45;&gt;4</title>\r\n",
       "<path fill=\"none\" stroke=\"black\" d=\"M213.433,-88.9485C219.725,-80.0749 226.538,-70.4648 232.867,-61.5388\"/>\r\n",
       "<polygon fill=\"black\" stroke=\"black\" points=\"235.824,-63.4188 238.753,-53.2367 230.114,-59.3701 235.824,-63.4188\"/>\r\n",
       "</g>\r\n",
       "</g>\r\n",
       "</svg>\r\n"
      ],
      "text/plain": [
       "<graphviz.files.Source at 0x14cc41c0>"
      ]
     },
     "execution_count": 24,
     "metadata": {},
     "output_type": "execute_result"
    }
   ],
   "source": [
    "# Visualizing\n",
    "graph = entr_decision_tree.visualize_decision_tree()\n",
    "graph"
   ]
  },
  {
   "cell_type": "markdown",
   "metadata": {},
   "source": [
    "## 3.2. Using gini"
   ]
  },
  {
   "cell_type": "markdown",
   "metadata": {},
   "source": [
    "### 3.2.1. Choosing best depth"
   ]
  },
  {
   "cell_type": "code",
   "execution_count": 25,
   "metadata": {},
   "outputs": [
    {
     "name": "stdout",
     "output_type": "stream",
     "text": [
      " Max Depth  Average Cross-validdation Accuracy\n",
      "         1                               0.650\n",
      "         2                               0.875\n",
      "         3                               0.875\n",
      "         4                               0.850\n",
      "Best depth: 2\n"
     ]
    }
   ],
   "source": [
    "# Choosing best depth\n",
    "gini_max_depth_range, gini_cv_acc, gini_best_depth = DecisionTree.choose_best_depth(len(X_test.columns), X_train, y_train, 'gini')"
   ]
  },
  {
   "cell_type": "code",
   "execution_count": 26,
   "metadata": {},
   "outputs": [
    {
     "data": {
      "image/png": "[encoded data removed]",
      "text/plain": [
       "<Figure size 720x360 with 1 Axes>"
      ]
     },
     "metadata": {},
     "output_type": "display_data"
    }
   ],
   "source": [
    "# Plotting\n",
    "DecisionTree.plot_cv_acc(gini_max_depth_range, gini_cv_acc, gini_best_depth)"
   ]
  },
  {
   "cell_type": "markdown",
   "metadata": {},
   "source": [
    "### 3.2.2. Fitting the model"
   ]
  },
  {
   "cell_type": "code",
   "execution_count": 27,
   "metadata": {},
   "outputs": [
    {
     "name": "stdout",
     "output_type": "stream",
     "text": [
      "DecisionTreeClassifier(max_depth=2)\n"
     ]
    }
   ],
   "source": [
    "# Decision tree with best depth\n",
    "gini_decision_tree = DecisionTree(gini_best_depth, 'gini')\n",
    "\n",
    "# Fitting the model\n",
    "gini_decision_tree.fit(np.array(X_train), np.array(y_train))"
   ]
  },
  {
   "cell_type": "markdown",
   "metadata": {},
   "source": [
    "### 3.2.3. Prediction"
   ]
  },
  {
   "cell_type": "code",
   "execution_count": 28,
   "metadata": {},
   "outputs": [
    {
     "name": "stdout",
     "output_type": "stream",
     "text": [
      "[0 0 1 2 1 0 1 2 0 1 1 1 0 2 0 1 2 0 1 0 0 1 2 0 2 0 1 0 2 2]\n"
     ]
    }
   ],
   "source": [
    "# Predicting on the test set\n",
    "gini_decision_tree.predict(X_test)"
   ]
  },
  {
   "cell_type": "markdown",
   "metadata": {},
   "source": [
    "### 3.2.4. Evaluating"
   ]
  },
  {
   "cell_type": "code",
   "execution_count": 29,
   "metadata": {},
   "outputs": [
    {
     "name": "stdout",
     "output_type": "stream",
     "text": [
      "Confusion matrix: \n",
      "[[12  0  0]\n",
      " [ 0  9  0]\n",
      " [ 0  1  8]]\n",
      "Accuracy of our model is equal 96.67 %.\n"
     ]
    }
   ],
   "source": [
    "# Evaluating the model\n",
    "gini_decision_tree.evaluate(y_test)"
   ]
  },
  {
   "cell_type": "markdown",
   "metadata": {},
   "source": [
    "### 3.2.5. Visualizing Decision Tree"
   ]
  },
  {
   "cell_type": "code",
   "execution_count": 30,
   "metadata": {},
   "outputs": [
    {
     "data": {
      "image/svg+xml": [
       "<?xml version=\"1.0\" encoding=\"UTF-8\" standalone=\"no\"?>\r\n",
       "<!DOCTYPE svg PUBLIC \"-//W3C//DTD SVG 1.1//EN\"\r\n",
       " \"http://www.w3.org/Graphics/SVG/1.1/DTD/svg11.dtd\">\r\n",
       "<!-- Generated by graphviz version 2.38.0 (20140413.2041)\r\n",
       " -->\r\n",
       "<!-- Title: Tree Pages: 1 -->\r\n",
       "<svg width=\"321pt\" height=\"269pt\"\r\n",
       " viewBox=\"0.00 0.00 321.00 269.00\" xmlns=\"http://www.w3.org/2000/svg\" xmlns:xlink=\"http://www.w3.org/1999/xlink\">\r\n",
       "<g id=\"graph0\" class=\"graph\" transform=\"scale(1 1) rotate(0) translate(4 265)\">\r\n",
       "<title>Tree</title>\r\n",
       "<polygon fill=\"white\" stroke=\"none\" points=\"-4,4 -4,-265 317,-265 317,4 -4,4\"/>\r\n",
       "<!-- 0 -->\r\n",
       "<g id=\"node1\" class=\"node\"><title>0</title>\r\n",
       "<polygon fill=\"none\" stroke=\"black\" points=\"185.5,-261 60.5,-261 60.5,-193 185.5,-193 185.5,-261\"/>\r\n",
       "<text text-anchor=\"middle\" x=\"123\" y=\"-245.8\" font-family=\"Times New Roman,serif\" font-size=\"14.00\">X[3] &lt;= 0.5</text>\r\n",
       "<text text-anchor=\"middle\" x=\"123\" y=\"-230.8\" font-family=\"Times New Roman,serif\" font-size=\"14.00\">gini = 0.666</text>\r\n",
       "<text text-anchor=\"middle\" x=\"123\" y=\"-215.8\" font-family=\"Times New Roman,serif\" font-size=\"14.00\">samples = 120</text>\r\n",
       "<text text-anchor=\"middle\" x=\"123\" y=\"-200.8\" font-family=\"Times New Roman,serif\" font-size=\"14.00\">value = [38, 41, 41]</text>\r\n",
       "</g>\r\n",
       "<!-- 1 -->\r\n",
       "<g id=\"node2\" class=\"node\"><title>1</title>\r\n",
       "<polygon fill=\"none\" stroke=\"black\" points=\"112,-149.5 7.10543e-015,-149.5 7.10543e-015,-96.5 112,-96.5 112,-149.5\"/>\r\n",
       "<text text-anchor=\"middle\" x=\"56\" y=\"-134.3\" font-family=\"Times New Roman,serif\" font-size=\"14.00\">gini = 0.0</text>\r\n",
       "<text text-anchor=\"middle\" x=\"56\" y=\"-119.3\" font-family=\"Times New Roman,serif\" font-size=\"14.00\">samples = 38</text>\r\n",
       "<text text-anchor=\"middle\" x=\"56\" y=\"-104.3\" font-family=\"Times New Roman,serif\" font-size=\"14.00\">value = [38, 0, 0]</text>\r\n",
       "</g>\r\n",
       "<!-- 0&#45;&gt;1 -->\r\n",
       "<g id=\"edge1\" class=\"edge\"><title>0&#45;&gt;1</title>\r\n",
       "<path fill=\"none\" stroke=\"black\" d=\"M101.247,-192.884C93.9507,-181.776 85.8031,-169.372 78.4541,-158.184\"/>\r\n",
       "<polygon fill=\"black\" stroke=\"black\" points=\"81.1786,-155.957 72.7631,-149.52 75.3279,-159.8 81.1786,-155.957\"/>\r\n",
       "<text text-anchor=\"middle\" x=\"67.6932\" y=\"-170.3\" font-family=\"Times New Roman,serif\" font-size=\"14.00\">True</text>\r\n",
       "</g>\r\n",
       "<!-- 2 -->\r\n",
       "<g id=\"node3\" class=\"node\"><title>2</title>\r\n",
       "<polygon fill=\"none\" stroke=\"black\" points=\"249.5,-157 130.5,-157 130.5,-89 249.5,-89 249.5,-157\"/>\r\n",
       "<text text-anchor=\"middle\" x=\"190\" y=\"-141.8\" font-family=\"Times New Roman,serif\" font-size=\"14.00\">X[2] &lt;= 2.5</text>\r\n",
       "<text text-anchor=\"middle\" x=\"190\" y=\"-126.8\" font-family=\"Times New Roman,serif\" font-size=\"14.00\">gini = 0.5</text>\r\n",
       "<text text-anchor=\"middle\" x=\"190\" y=\"-111.8\" font-family=\"Times New Roman,serif\" font-size=\"14.00\">samples = 82</text>\r\n",
       "<text text-anchor=\"middle\" x=\"190\" y=\"-96.8\" font-family=\"Times New Roman,serif\" font-size=\"14.00\">value = [0, 41, 41]</text>\r\n",
       "</g>\r\n",
       "<!-- 0&#45;&gt;2 -->\r\n",
       "<g id=\"edge2\" class=\"edge\"><title>0&#45;&gt;2</title>\r\n",
       "<path fill=\"none\" stroke=\"black\" d=\"M144.753,-192.884C150.428,-184.243 156.619,-174.819 162.548,-165.793\"/>\r\n",
       "<polygon fill=\"black\" stroke=\"black\" points=\"165.562,-167.579 168.127,-157.299 159.711,-163.736 165.562,-167.579\"/>\r\n",
       "<text text-anchor=\"middle\" x=\"173.197\" y=\"-178.08\" font-family=\"Times New Roman,serif\" font-size=\"14.00\">False</text>\r\n",
       "</g>\r\n",
       "<!-- 3 -->\r\n",
       "<g id=\"node4\" class=\"node\"><title>3</title>\r\n",
       "<polygon fill=\"none\" stroke=\"black\" points=\"182.5,-53 63.5,-53 63.5,-0 182.5,-0 182.5,-53\"/>\r\n",
       "<text text-anchor=\"middle\" x=\"123\" y=\"-37.8\" font-family=\"Times New Roman,serif\" font-size=\"14.00\">gini = 0.392</text>\r\n",
       "<text text-anchor=\"middle\" x=\"123\" y=\"-22.8\" font-family=\"Times New Roman,serif\" font-size=\"14.00\">samples = 56</text>\r\n",
       "<text text-anchor=\"middle\" x=\"123\" y=\"-7.8\" font-family=\"Times New Roman,serif\" font-size=\"14.00\">value = [0, 41, 15]</text>\r\n",
       "</g>\r\n",
       "<!-- 2&#45;&gt;3 -->\r\n",
       "<g id=\"edge3\" class=\"edge\"><title>2&#45;&gt;3</title>\r\n",
       "<path fill=\"none\" stroke=\"black\" d=\"M166.567,-88.9485C160.275,-80.0749 153.462,-70.4648 147.133,-61.5388\"/>\r\n",
       "<polygon fill=\"black\" stroke=\"black\" points=\"149.886,-59.3701 141.247,-53.2367 144.176,-63.4188 149.886,-59.3701\"/>\r\n",
       "</g>\r\n",
       "<!-- 4 -->\r\n",
       "<g id=\"node5\" class=\"node\"><title>4</title>\r\n",
       "<polygon fill=\"none\" stroke=\"black\" points=\"313,-53 201,-53 201,-0 313,-0 313,-53\"/>\r\n",
       "<text text-anchor=\"middle\" x=\"257\" y=\"-37.8\" font-family=\"Times New Roman,serif\" font-size=\"14.00\">gini = 0.0</text>\r\n",
       "<text text-anchor=\"middle\" x=\"257\" y=\"-22.8\" font-family=\"Times New Roman,serif\" font-size=\"14.00\">samples = 26</text>\r\n",
       "<text text-anchor=\"middle\" x=\"257\" y=\"-7.8\" font-family=\"Times New Roman,serif\" font-size=\"14.00\">value = [0, 0, 26]</text>\r\n",
       "</g>\r\n",
       "<!-- 2&#45;&gt;4 -->\r\n",
       "<g id=\"edge4\" class=\"edge\"><title>2&#45;&gt;4</title>\r\n",
       "<path fill=\"none\" stroke=\"black\" d=\"M213.433,-88.9485C219.725,-80.0749 226.538,-70.4648 232.867,-61.5388\"/>\r\n",
       "<polygon fill=\"black\" stroke=\"black\" points=\"235.824,-63.4188 238.753,-53.2367 230.114,-59.3701 235.824,-63.4188\"/>\r\n",
       "</g>\r\n",
       "</g>\r\n",
       "</svg>\r\n"
      ],
      "text/plain": [
       "<graphviz.files.Source at 0x12c63c40>"
      ]
     },
     "execution_count": 30,
     "metadata": {},
     "output_type": "execute_result"
    }
   ],
   "source": [
    "# Visualizing\n",
    "graph = gini_decision_tree.visualize_decision_tree()\n",
    "graph"
   ]
  },
  {
   "cell_type": "code",
   "execution_count": null,
   "metadata": {},
   "outputs": [],
   "source": []
  }
 ],
 "metadata": {
  "kernelspec": {
   "display_name": "Python 3",
   "language": "python",
   "name": "python3"
  },
  "language_info": {
   "codemirror_mode": {
    "name": "ipython",
    "version": 3
   },
   "file_extension": ".py",
   "mimetype": "text/x-python",
   "name": "python",
   "nbconvert_exporter": "python",
   "pygments_lexer": "ipython3",
   "version": "3.8.3"
  }
 },
 "nbformat": 4,
 "nbformat_minor": 4
}
